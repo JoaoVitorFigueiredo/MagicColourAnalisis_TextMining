{
 "cells": [
  {
   "cell_type": "markdown",
   "id": "a8fbec0a-00e7-4744-9688-c3ad15d2c596",
   "metadata": {},
   "source": [
    "# Previsão das cores de uma carta do jogo Magic: The Gathering\n",
    "\n"
   ]
  },
  {
   "cell_type": "code",
   "execution_count": 3,
   "id": "edfe4e45-441c-43ad-83ec-55e140da5c99",
   "metadata": {},
   "outputs": [
    {
     "name": "stdout",
     "output_type": "stream",
     "text": [
      "This program predicts the color associated with a Magic: The Gathering card\n",
      "based on the text description of the card's effect.\n",
      "The program uses a trained machine learning model to classify the color.\n",
      "The colors are usually associated with different types of effects in the game:\n",
      "- Green (G): Often related to growth, creatures, and life gain.\n",
      "- Black (B): Associated with death, destruction, and manipulation of life.\n",
      "- Red (R): Known for aggressive spells and damage-dealing effects.\n",
      "- White (W): Focuses on protection, order, and creating creatures.\n",
      "- Blue (U): Known for countering spells, drawing cards, and controlling the game.\n",
      "\n",
      "Sentence Examples:\n",
      "- Card text: The creature gets +3 power and toughness.\n",
      "- The predicted color for the card is: G\n",
      "- Card text: Destroy target creature.\n",
      "- The predicted color for the card is: B\n",
      "- Card text: Lightning touch: deal 3 damage to target.\n",
      "- The predicted color for the card is: R\n",
      "\n",
      "Now you can enter your own card descriptions to predict the associated color.\n"
     ]
    },
    {
     "name": "stdin",
     "output_type": "stream",
     "text": [
      "Enter phrase to predict (or 'exit' to close):  Counter target spell. Choose 1, 2, or 3 at random. Its controller mills that many cards, then exiles cards from the top of their library until they exile a nonland card with a different name than that spell. They may cast that card without paying its mana cost. Then they put the exiled cards on the bottom of their library in a random order.Counter target spell. Choose 1, 2, or 3 at random. Its controller mills that many cards, then exiles cards from the top of their library until they exile a nonland card with a different name than that spell. They may cast that card without paying its mana cost. Then they put the exiled cards on the bottom of their library in a random order.\n"
     ]
    },
    {
     "name": "stdout",
     "output_type": "stream",
     "text": [
      "The predicted color for the card is: R\n",
      "\n",
      "Program interrupted by user.\n"
     ]
    }
   ],
   "source": [
    "import pickle\n",
    "import re\n",
    "from sklearn.feature_extraction.text import CountVectorizer\n",
    "from sklearn.feature_extraction.text import TfidfTransformer\n",
    "\n",
    "with open('logistic_model.pkl', 'rb') as f:\n",
    "    logistic_model = pickle.load(f)\n",
    "\n",
    "with open('naive_bayes_model.pkl', 'rb') as f:\n",
    "    naive_bayes_model = pickle.load(f)\n",
    "\n",
    "with open('vectorizer.pkl', 'rb') as f:\n",
    "    vectorizer = pickle.load(f)\n",
    "\n",
    "with open('transformer.pkl', 'rb') as f:\n",
    "    transformer = pickle.load(f)\n",
    "\n",
    "def preprocess_text(text):\n",
    "    text = text.lower()  \n",
    "    text = re.sub(r'[^\\w\\s]', '', text)  \n",
    "    return text\n",
    "\n",
    "def predict_color(text):\n",
    "    preprocessed_text = preprocess_text(text)  \n",
    "    text_vector = vectorizer.transform([preprocessed_text])  \n",
    "    text_tfidf = transformer.transform(text_vector)  \n",
    "    prediction = logistic_model.predict(text_tfidf)  \n",
    "    return prediction[0]\n",
    "\n",
    "# Main program function\n",
    "def main():\n",
    "    try:\n",
    "        #frases de cartas de Magic: The Gathering\n",
    "        phrases = [\n",
    "            \"The creature gets +3 power and toughness.\",  # Exemplo de frase associada à cor verde (Green) \n",
    "            \"Destroy target creature.\",  # Exemplo de frase associada à cor preta (Black) \n",
    "            \"Lightning touch: deal 3 damage to target.\",  # Exemplo de frase associada à cor vermelha (Red) \n",
    "        ]\n",
    "        \n",
    "        print(\"This program predicts the color associated with a Magic: The Gathering card\")\n",
    "        print(\"based on the text description of the card's effect.\")\n",
    "        print(\"The program uses a trained machine learning model to classify the color.\")\n",
    "        print(\"The colors are usually associated with different types of effects in the game:\")\n",
    "        print(\"- Green (G): Often related to growth, creatures, and life gain.\")\n",
    "        print(\"- Black (B): Associated with death, destruction, and manipulation of life.\")\n",
    "        print(\"- Red (R): Known for aggressive spells and damage-dealing effects.\")\n",
    "        print(\"- White (W): Focuses on protection, order, and creating creatures.\")\n",
    "        print(\"- Blue (U): Known for countering spells, drawing cards, and controlling the game.\\n\")\n",
    "        print(\"Sentence Examples:\")\n",
    "        \n",
    "        for phrase in phrases:\n",
    "            print(f\"- Card text: {phrase}\")\n",
    "            predicted_color = predict_color(phrase)  \n",
    "            print(f\"- The predicted color for the card is: {predicted_color}\")\n",
    "        print(\"\\nNow you can enter your own card descriptions to predict the associated color.\")\n",
    "        while True:\n",
    "            frase = input(\"Enter phrase to predict (or 'exit' to close): \")\n",
    "            if not frase.strip(): \n",
    "                print(\"The sentence cannot be empty. Please enter a valid phrase.\")\n",
    "                continue\n",
    "            if frase.lower() == 'exit':\n",
    "                break\n",
    "            predicted_color = predict_color(frase)\n",
    "            print(f\"The predicted color for the card is: {predicted_color}\")\n",
    "        print(\"Program finished.\")   \n",
    "    except KeyboardInterrupt:\n",
    "        print(\"\\nProgram interrupted by user.\")\n",
    "if __name__ == \"__main__\":\n",
    "    main()"
   ]
  },
  {
   "cell_type": "code",
   "execution_count": null,
   "id": "3dc8f7d2-0875-44a2-83c0-ddefa625e6b2",
   "metadata": {},
   "outputs": [],
   "source": []
  },
  {
   "cell_type": "code",
   "execution_count": null,
   "id": "4406bea4-af79-4288-b463-25acdefc07cd",
   "metadata": {},
   "outputs": [],
   "source": []
  }
 ],
 "metadata": {
  "kernelspec": {
   "display_name": "Python 3 (ipykernel)",
   "language": "python",
   "name": "python3"
  },
  "language_info": {
   "codemirror_mode": {
    "name": "ipython",
    "version": 3
   },
   "file_extension": ".py",
   "mimetype": "text/x-python",
   "name": "python",
   "nbconvert_exporter": "python",
   "pygments_lexer": "ipython3",
   "version": "3.12.7"
  }
 },
 "nbformat": 4,
 "nbformat_minor": 5
}
