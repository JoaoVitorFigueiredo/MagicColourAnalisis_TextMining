{
 "cells": [
  {
   "cell_type": "markdown",
   "id": "a8fbec0a-00e7-4744-9688-c3ad15d2c596",
   "metadata": {},
   "source": [
    "# Previsão das cores de uma carta do jogo Magic: The Gathering\n",
    "\n"
   ]
  },
  {
   "cell_type": "code",
   "execution_count": null,
   "id": "edfe4e45-441c-43ad-83ec-55e140da5c99",
   "metadata": {},
   "outputs": [
    {
     "name": "stdin",
     "output_type": "stream",
     "text": [
      "Digite a frase para previsão (ou 'sair' para encerrar):  Counter target noncreature spell. Untap up to three lands.\n"
     ]
    },
    {
     "name": "stdout",
     "output_type": "stream",
     "text": [
      "A cor prevista é: U\n"
     ]
    },
    {
     "name": "stdin",
     "output_type": "stream",
     "text": [
      "Digite a frase para previsão (ou 'sair' para encerrar):  Return all attacking creatures to their owner's hand.\n"
     ]
    },
    {
     "name": "stdout",
     "output_type": "stream",
     "text": [
      "A cor prevista é: U\n"
     ]
    }
   ],
   "source": [
    "import pickle\n",
    "from sklearn.feature_extraction.text import CountVectorizer\n",
    "from sklearn.feature_extraction.text import TfidfTransformer\n",
    "\n",
    "#modelos treinados\n",
    "with open('logistic_model.pkl', 'rb') as f:\n",
    "    logistic_model = pickle.load(f)\n",
    "\n",
    "with open('naive_bayes_model.pkl', 'rb') as f:\n",
    "    naive_bayes_model = pickle.load(f)\n",
    "\n",
    "#vectorizer e transformer treinados\n",
    "with open('vectorizer.pkl', 'rb') as f:\n",
    "    vectorizer = pickle.load(f)\n",
    "\n",
    "with open('transformer.pkl', 'rb') as f:\n",
    "    transformer = pickle.load(f)\n",
    "\n",
    "def preprocessar_texto(texto):\n",
    "    texto = texto.lower()\n",
    "    texto = re.sub(r'[^\\w\\s]', '', texto)  \n",
    "    return texto\n",
    "\n",
    "#prever cor\n",
    "def prever_cor(texto):\n",
    "    texto_preprocessado = preprocessar_texto(texto)\n",
    "    texto_vetor = vectorizer.transform([texto_preprocessado])\n",
    "    texto_tfidf = transformer.transform(texto_vetor)\n",
    "    previsao = logistic_model.predict(texto_tfidf)\n",
    "    return previsao[0]\n",
    "\n",
    "def main():\n",
    "    while True:\n",
    "        frase = input(\"Digite a frase para previsão (ou 'sair' para encerrar): \")\n",
    "        if frase.lower() == 'sair':\n",
    "            break\n",
    "        cor_prevista = prever_cor(frase)\n",
    "        print(f\"A cor prevista é: {cor_prevista}\")\n",
    "if __name__ == \"__main__\":\n",
    "    main()\n"
   ]
  },
  {
   "cell_type": "code",
   "execution_count": null,
   "id": "3dc8f7d2-0875-44a2-83c0-ddefa625e6b2",
   "metadata": {},
   "outputs": [],
   "source": []
  },
  {
   "cell_type": "code",
   "execution_count": null,
   "id": "4406bea4-af79-4288-b463-25acdefc07cd",
   "metadata": {},
   "outputs": [],
   "source": []
  }
 ],
 "metadata": {
  "kernelspec": {
   "display_name": "Python 3 (ipykernel)",
   "language": "python",
   "name": "python3"
  },
  "language_info": {
   "codemirror_mode": {
    "name": "ipython",
    "version": 3
   },
   "file_extension": ".py",
   "mimetype": "text/x-python",
   "name": "python",
   "nbconvert_exporter": "python",
   "pygments_lexer": "ipython3",
   "version": "3.12.7"
  }
 },
 "nbformat": 4,
 "nbformat_minor": 5
}
