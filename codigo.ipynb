{
 "cells": [
  {
   "cell_type": "code",
   "execution_count": 2,
   "id": "29257252",
   "metadata": {
    "ExecuteTime": {
     "end_time": "2024-12-13T16:28:12.227887800Z",
     "start_time": "2024-12-13T16:28:10.464350800Z"
    }
   },
   "outputs": [],
   "source": [
    "import pandas as pd\n",
    "import numpy as np\n",
    "import matplotlib.pyplot as plt"
   ]
  },
  {
   "cell_type": "code",
   "execution_count": 5,
   "id": "873af63c",
   "metadata": {
    "scrolled": true,
    "ExecuteTime": {
     "end_time": "2024-12-13T16:29:23.265567200Z",
     "start_time": "2024-12-13T16:29:23.114025400Z"
    }
   },
   "outputs": [
    {
     "name": "stdout",
     "output_type": "stream",
     "text": [
      "152172\n"
     ]
    },
    {
     "data": {
      "text/plain": "   Unnamed: 0               name  multiverse_id colors color_identity  \\\n0           1  Ancestor's Chosen            NaN  ['W']          ['W']   \n1           2     Angel of Mercy       129465.0  ['W']          ['W']   \n2           4   Angelic Blessing       129711.0  ['W']          ['W']   \n3           6     Angelic Chorus       129710.0  ['W']          ['W']   \n4           7       Angelic Wall       129671.0  ['W']          ['W']   \n\n  supertypes                                               text  \\\n0        NaN  First strike (This creature deals combat damag...   \n1        NaN  Flying\\nWhen Angel of Mercy enters the battlef...   \n2        NaN  Target creature gets +3/+3 and gains flying un...   \n3        NaN  Whenever a creature enters the battlefield und...   \n4        NaN     Defender (This creature can't attack.)\\nFlying   \n\n                                              flavor number power toughness  \\\n0                \"The will of all, by my hand done.\"     1★     4         4   \n1          Every tear shed is a drop of immortality.      2     3         3   \n2  Only the warrior who can admit mortal weakness...      3   NaN       NaN   \n3  The harmony of the glorious is a dirge to the ...      4   NaN       NaN   \n4  \"The Ancestor protects us in ways we can't beg...      5     0         4   \n\n   loyalty  \n0      NaN  \n1      NaN  \n2      NaN  \n3      NaN  \n4      NaN  ",
      "text/html": "<div>\n<style scoped>\n    .dataframe tbody tr th:only-of-type {\n        vertical-align: middle;\n    }\n\n    .dataframe tbody tr th {\n        vertical-align: top;\n    }\n\n    .dataframe thead th {\n        text-align: right;\n    }\n</style>\n<table border=\"1\" class=\"dataframe\">\n  <thead>\n    <tr style=\"text-align: right;\">\n      <th></th>\n      <th>Unnamed: 0</th>\n      <th>name</th>\n      <th>multiverse_id</th>\n      <th>colors</th>\n      <th>color_identity</th>\n      <th>supertypes</th>\n      <th>text</th>\n      <th>flavor</th>\n      <th>number</th>\n      <th>power</th>\n      <th>toughness</th>\n      <th>loyalty</th>\n    </tr>\n  </thead>\n  <tbody>\n    <tr>\n      <th>0</th>\n      <td>1</td>\n      <td>Ancestor's Chosen</td>\n      <td>NaN</td>\n      <td>['W']</td>\n      <td>['W']</td>\n      <td>NaN</td>\n      <td>First strike (This creature deals combat damag...</td>\n      <td>\"The will of all, by my hand done.\"</td>\n      <td>1★</td>\n      <td>4</td>\n      <td>4</td>\n      <td>NaN</td>\n    </tr>\n    <tr>\n      <th>1</th>\n      <td>2</td>\n      <td>Angel of Mercy</td>\n      <td>129465.0</td>\n      <td>['W']</td>\n      <td>['W']</td>\n      <td>NaN</td>\n      <td>Flying\\nWhen Angel of Mercy enters the battlef...</td>\n      <td>Every tear shed is a drop of immortality.</td>\n      <td>2</td>\n      <td>3</td>\n      <td>3</td>\n      <td>NaN</td>\n    </tr>\n    <tr>\n      <th>2</th>\n      <td>4</td>\n      <td>Angelic Blessing</td>\n      <td>129711.0</td>\n      <td>['W']</td>\n      <td>['W']</td>\n      <td>NaN</td>\n      <td>Target creature gets +3/+3 and gains flying un...</td>\n      <td>Only the warrior who can admit mortal weakness...</td>\n      <td>3</td>\n      <td>NaN</td>\n      <td>NaN</td>\n      <td>NaN</td>\n    </tr>\n    <tr>\n      <th>3</th>\n      <td>6</td>\n      <td>Angelic Chorus</td>\n      <td>129710.0</td>\n      <td>['W']</td>\n      <td>['W']</td>\n      <td>NaN</td>\n      <td>Whenever a creature enters the battlefield und...</td>\n      <td>The harmony of the glorious is a dirge to the ...</td>\n      <td>4</td>\n      <td>NaN</td>\n      <td>NaN</td>\n      <td>NaN</td>\n    </tr>\n    <tr>\n      <th>4</th>\n      <td>7</td>\n      <td>Angelic Wall</td>\n      <td>129671.0</td>\n      <td>['W']</td>\n      <td>['W']</td>\n      <td>NaN</td>\n      <td>Defender (This creature can't attack.)\\nFlying</td>\n      <td>\"The Ancestor protects us in ways we can't beg...</td>\n      <td>5</td>\n      <td>0</td>\n      <td>4</td>\n      <td>NaN</td>\n    </tr>\n  </tbody>\n</table>\n</div>"
     },
     "execution_count": 5,
     "metadata": {},
     "output_type": "execute_result"
    }
   ],
   "source": [
    "df = pd.read_csv(\"cleaner_data.csv\")\n",
    "print(df.size)\n",
    "df.head()"
   ]
  },
  {
   "cell_type": "code",
   "execution_count": 6,
   "id": "2cdea07f",
   "metadata": {
    "ExecuteTime": {
     "end_time": "2024-12-13T16:29:25.397212400Z",
     "start_time": "2024-12-13T16:29:25.380587900Z"
    }
   },
   "outputs": [],
   "source": [
    "import re\n",
    "\n",
    "def clean_color(text):\n",
    "     # as cores são branco(W), preto(B), azul(U), vermelho(R) ou verde(G)\n",
    "    pattern = r\"\\['(W|B|U|R|G)'\\]\"\n",
    "    \n",
    "    match = re.search(pattern, text)\n",
    "    \n",
    "    if match:\n",
    "        return match.group(1)\n",
    "    return None\n",
    "\n",
    "df[\"color\"] = df[\"color_identity\"].apply(clean_color)\n",
    "df.drop(\"color_identity\", axis=1, inplace = True)"
   ]
  },
  {
   "cell_type": "code",
   "execution_count": 7,
   "id": "ecea129e",
   "metadata": {
    "ExecuteTime": {
     "end_time": "2024-12-13T16:29:26.654363700Z",
     "start_time": "2024-12-13T16:29:26.645364800Z"
    }
   },
   "outputs": [
    {
     "data": {
      "text/plain": "color\nW    2632\nR    2575\nB    2563\nG    2475\nU    2436\nName: count, dtype: int64"
     },
     "execution_count": 7,
     "metadata": {},
     "output_type": "execute_result"
    }
   ],
   "source": [
    "df[\"color\"].value_counts()"
   ]
  },
  {
   "cell_type": "code",
   "execution_count": 11,
   "id": "68edb8fd",
   "metadata": {
    "ExecuteTime": {
     "end_time": "2024-12-13T16:31:26.943040200Z",
     "start_time": "2024-12-13T16:31:25.923919900Z"
    }
   },
   "outputs": [],
   "source": [
    "df[\"counterspell\"] = (df.text.str.contains(r\"[Cc]ounter\\s(?:it|target|all)\") & # anulações\n",
    "         (df.text.str.contains(r\"[wW]ard(?:\\s{|—])\") == False)) # Ward é uma maneira de anulação/proteção mais transversal às cores e é ignorada\n",
    "\n",
    "\n",
    "df[\"exile\"] = (df.text.str.contains(r\"[eE]xile\\s(?:target|each|all|the|up\\sto)\") & # exilar algo do tablueiro\n",
    "        (df.text.str.contains(r\"the\\stop\") == False)) # Algumas cartas \"compram\" cartas exilando-as do topo do deck, isso nào conta como exilar algo do tabuleiro\n",
    "\n",
    "df[\"fight\"] = (df.text.str.contains(r\"[Ff]ights\")) # Criaturas lutarem é uma mecânica característica do verde\n",
    "\n",
    "\n",
    "df[\"mill\"] = (df.text.str.contains(r\"[mM]ill\")) # TODO: mill é uma palavra chave recente, antes era referida por descartar a carta do >TOPO DO BATALHO<, bom adicionar este texto também\n",
    "\n",
    "\n",
    "df[\"scry\"] = (df.text.str.contains(r\"[sS]cry\"))\n",
    "\n",
    "\n",
    "df[\"tap\"] = (df.text.str.contains(r\"(?:\\st|T)ap\\s(?:it|target|each|all|or\\suntap)\")) # cartas que viram outras \n",
    "\n",
    "\n",
    "df[\"untap\"] = (df.text.str.contains(r\"[uU]ntap\\s(?:it|target|each|all)\")) # find untappers\n",
    "\n",
    "\"\"\"\n",
    "df.loc[df.text.str.contains(\"[dD]eathtouch\") | # find creatures that have deathtouch\n",
    "        df.text.str.contains(\"deals combat damage to a creature, destroy that creature\", regex = False)] # or that have \"derptouch\"\n",
    "\"\"\"\n",
    "\n",
    "df[\"double_strike\"] = (df.text.str.contains(r\"[dD]ouble\\sstrike\"))\n",
    "\n",
    "\n",
    "df[\"first_strike\"] = (df.text.str.contains(r\"[fF]irst\\sstrike\"))\n",
    "\n",
    "\n",
    "df[\"flash\"] = (df.text.str.contains(r\"(?:f|\\nF|^F)lash\") & # some engineering to avoid incorrectly grabbing cards with Flash in the name\n",
    "        (df.text.str.contains(r\"[fF]lashback\") == False)) # dont' want to capture flashback\n",
    "\n",
    "\n",
    "df[\"flying\"] = (df.text.str.contains(r\"[fF]lying\"))\n",
    "\n",
    "\n",
    "df[\"haste\"] = (df.text.str.contains(r\"[hH]aste\"))\n",
    "\n",
    "\n",
    "df[\"hexproof\"] = (df.text.str.contains(r\"[hH]exproof\"))\n",
    "\n",
    "\n",
    "df[\"indestructible\"] = (df.text.str.contains(r\"[iI]ndestructible\") &\n",
    "                         (df.text.str.contains(r\"loses\\sindestructible\") == False))\n",
    "\n",
    "\n",
    "df[\"sacrifice\"] = (df.text.str.contains(r\"[sS]acrifice\"))\n",
    "\n",
    "\n",
    "df[\"lifelink\"] = (df.text.str.contains(r\"[lL]ifelink\"))\n",
    "\n",
    "\n",
    "df[\"menace\"] = (df.text.str.contains(r\"[mM]enace\"))\n",
    "\n",
    "\n",
    "df[\"protection\"] = (df.text.str.contains(r\"[pP]rotection\\sfrom\"))\n",
    "\n",
    "\n",
    "df[\"prowess\"] = (df.text.str.contains(r\"[pP]rowess\"))\n",
    "\n",
    "\n",
    "df[\"reach\"] = (df.text.str.contains(r\"(?:\\sr|\\nR|^R)each\") &\n",
    "        (df.text.str.contains(r\"can't be blocked except by creatures with flying or reach\", regex = False) == False)) # don't want flying reminder text\n",
    "\n",
    "\n",
    "df[\"trample\"] = (df.text.str.contains(r\"[tT]rample\"))\n",
    "\n",
    "\n",
    "df[\"vigilance\"] = (df.text.str.contains(r\"[vV]igilance\"))\n",
    "\n",
    "\n",
    "df[\"draw\"] = (df.text.str.contains(r\"(?:\\sd|\\nD|^D)raw\"))\n",
    "\n",
    "\n",
    "df[\"discard\"] = (df.text.str.contains(r\"[dD]iscard\"))\n",
    "\n",
    "\n",
    "df[\"damage\"] = (df.text.str.contains(r\"deals\\s\\d\\sdamage\"))\n",
    "\n",
    "\n",
    "df[\"damage_prevention\"] = (df.text.str.contains(r\"[pP]revent\\s\"))\n",
    "\n",
    "\n",
    "df[\"life_gain\"] = (df.text.str.contains(r\"gain(?:\\s|s\\s)\\d+\\slife\"))\n",
    "\n",
    "\n",
    "df[\"life_loss\"] = (df.text.str.contains(r\"loses\") & \n",
    "                   df.text.str.contains(r\"(?:their|\\d+)\\slife\")) # capture both fixed and rational values\n",
    "\n",
    "\n",
    "df[\"tokens\"] = (df.text.str.contains(r\"[cC]reate\"))\n",
    "\n",
    "\n",
    "df[\"destroy\"] = (df.text.str.contains(r\"[dD]estroy\") &\n",
    "                  (df.text.str.contains(r\"don't\\sdestroy\\sit.\") == False)) # reject indestructible's reminder text\n",
    "\n",
    "\n",
    "df[\"return\"] = (df.text.str.contains(r\"[rR]eturn\") &\n",
    "        df.text.str.contains(r\"owner's\\s(?:hand|library)\") & # capture hand or library bounce effects\n",
    "        (df.text.str.contains(r\"graveyard\\sto\") == False)) # exclude grave recursion\n",
    "\n",
    "\n",
    "df[\"recursion\"] = (df.text.str.contains(r\"\\sput|return\") &\n",
    "        df.text.str.contains(r\"graveyard\")&\n",
    "        df.text.str.contains(r\"hand|battlefield\"))"
   ]
  },
  {
   "cell_type": "code",
   "execution_count": 12,
   "id": "2ac6f247",
   "metadata": {
    "ExecuteTime": {
     "end_time": "2024-12-13T16:31:34.888260200Z",
     "start_time": "2024-12-13T16:31:34.848747500Z"
    }
   },
   "outputs": [
    {
     "data": {
      "text/plain": "   Unnamed: 0               name  multiverse_id colors supertypes  \\\n0           1  Ancestor's Chosen            NaN  ['W']        NaN   \n1           2     Angel of Mercy       129465.0  ['W']        NaN   \n2           4   Angelic Blessing       129711.0  ['W']        NaN   \n3           6     Angelic Chorus       129710.0  ['W']        NaN   \n4           7       Angelic Wall       129671.0  ['W']        NaN   \n\n                                                text  \\\n0  First strike (This creature deals combat damag...   \n1  Flying\\nWhen Angel of Mercy enters the battlef...   \n2  Target creature gets +3/+3 and gains flying un...   \n3  Whenever a creature enters the battlefield und...   \n4     Defender (This creature can't attack.)\\nFlying   \n\n                                              flavor number power toughness  \\\n0                \"The will of all, by my hand done.\"     1★     4         4   \n1          Every tear shed is a drop of immortality.      2     3         3   \n2  Only the warrior who can admit mortal weakness...      3   NaN       NaN   \n3  The harmony of the glorious is a dirge to the ...      4   NaN       NaN   \n4  \"The Ancestor protects us in ways we can't beg...      5     0         4   \n\n   ...   draw discard  damage  damage_prevention life_gain life_loss tokens  \\\n0  ...  False   False   False              False      True     False  False   \n1  ...  False   False   False              False      True     False  False   \n2  ...  False   False   False              False     False     False  False   \n3  ...  False   False   False              False     False     False  False   \n4  ...  False   False   False              False     False     False  False   \n\n  destroy return recursion  \n0   False  False     False  \n1   False  False     False  \n2   False  False     False  \n3   False  False     False  \n4   False  False     False  \n\n[5 rows x 44 columns]",
      "text/html": "<div>\n<style scoped>\n    .dataframe tbody tr th:only-of-type {\n        vertical-align: middle;\n    }\n\n    .dataframe tbody tr th {\n        vertical-align: top;\n    }\n\n    .dataframe thead th {\n        text-align: right;\n    }\n</style>\n<table border=\"1\" class=\"dataframe\">\n  <thead>\n    <tr style=\"text-align: right;\">\n      <th></th>\n      <th>Unnamed: 0</th>\n      <th>name</th>\n      <th>multiverse_id</th>\n      <th>colors</th>\n      <th>supertypes</th>\n      <th>text</th>\n      <th>flavor</th>\n      <th>number</th>\n      <th>power</th>\n      <th>toughness</th>\n      <th>...</th>\n      <th>draw</th>\n      <th>discard</th>\n      <th>damage</th>\n      <th>damage_prevention</th>\n      <th>life_gain</th>\n      <th>life_loss</th>\n      <th>tokens</th>\n      <th>destroy</th>\n      <th>return</th>\n      <th>recursion</th>\n    </tr>\n  </thead>\n  <tbody>\n    <tr>\n      <th>0</th>\n      <td>1</td>\n      <td>Ancestor's Chosen</td>\n      <td>NaN</td>\n      <td>['W']</td>\n      <td>NaN</td>\n      <td>First strike (This creature deals combat damag...</td>\n      <td>\"The will of all, by my hand done.\"</td>\n      <td>1★</td>\n      <td>4</td>\n      <td>4</td>\n      <td>...</td>\n      <td>False</td>\n      <td>False</td>\n      <td>False</td>\n      <td>False</td>\n      <td>True</td>\n      <td>False</td>\n      <td>False</td>\n      <td>False</td>\n      <td>False</td>\n      <td>False</td>\n    </tr>\n    <tr>\n      <th>1</th>\n      <td>2</td>\n      <td>Angel of Mercy</td>\n      <td>129465.0</td>\n      <td>['W']</td>\n      <td>NaN</td>\n      <td>Flying\\nWhen Angel of Mercy enters the battlef...</td>\n      <td>Every tear shed is a drop of immortality.</td>\n      <td>2</td>\n      <td>3</td>\n      <td>3</td>\n      <td>...</td>\n      <td>False</td>\n      <td>False</td>\n      <td>False</td>\n      <td>False</td>\n      <td>True</td>\n      <td>False</td>\n      <td>False</td>\n      <td>False</td>\n      <td>False</td>\n      <td>False</td>\n    </tr>\n    <tr>\n      <th>2</th>\n      <td>4</td>\n      <td>Angelic Blessing</td>\n      <td>129711.0</td>\n      <td>['W']</td>\n      <td>NaN</td>\n      <td>Target creature gets +3/+3 and gains flying un...</td>\n      <td>Only the warrior who can admit mortal weakness...</td>\n      <td>3</td>\n      <td>NaN</td>\n      <td>NaN</td>\n      <td>...</td>\n      <td>False</td>\n      <td>False</td>\n      <td>False</td>\n      <td>False</td>\n      <td>False</td>\n      <td>False</td>\n      <td>False</td>\n      <td>False</td>\n      <td>False</td>\n      <td>False</td>\n    </tr>\n    <tr>\n      <th>3</th>\n      <td>6</td>\n      <td>Angelic Chorus</td>\n      <td>129710.0</td>\n      <td>['W']</td>\n      <td>NaN</td>\n      <td>Whenever a creature enters the battlefield und...</td>\n      <td>The harmony of the glorious is a dirge to the ...</td>\n      <td>4</td>\n      <td>NaN</td>\n      <td>NaN</td>\n      <td>...</td>\n      <td>False</td>\n      <td>False</td>\n      <td>False</td>\n      <td>False</td>\n      <td>False</td>\n      <td>False</td>\n      <td>False</td>\n      <td>False</td>\n      <td>False</td>\n      <td>False</td>\n    </tr>\n    <tr>\n      <th>4</th>\n      <td>7</td>\n      <td>Angelic Wall</td>\n      <td>129671.0</td>\n      <td>['W']</td>\n      <td>NaN</td>\n      <td>Defender (This creature can't attack.)\\nFlying</td>\n      <td>\"The Ancestor protects us in ways we can't beg...</td>\n      <td>5</td>\n      <td>0</td>\n      <td>4</td>\n      <td>...</td>\n      <td>False</td>\n      <td>False</td>\n      <td>False</td>\n      <td>False</td>\n      <td>False</td>\n      <td>False</td>\n      <td>False</td>\n      <td>False</td>\n      <td>False</td>\n      <td>False</td>\n    </tr>\n  </tbody>\n</table>\n<p>5 rows × 44 columns</p>\n</div>"
     },
     "execution_count": 12,
     "metadata": {},
     "output_type": "execute_result"
    }
   ],
   "source": [
    "df.head()"
   ]
  },
  {
   "cell_type": "code",
   "execution_count": null,
   "id": "122ad24e",
   "metadata": {},
   "outputs": [],
   "source": []
  }
 ],
 "metadata": {
  "kernelspec": {
   "display_name": "Python 3 (ipykernel)",
   "language": "python",
   "name": "python3"
  },
  "language_info": {
   "codemirror_mode": {
    "name": "ipython",
    "version": 3
   },
   "file_extension": ".py",
   "mimetype": "text/x-python",
   "name": "python",
   "nbconvert_exporter": "python",
   "pygments_lexer": "ipython3",
   "version": "3.11.5"
  }
 },
 "nbformat": 4,
 "nbformat_minor": 5
}
